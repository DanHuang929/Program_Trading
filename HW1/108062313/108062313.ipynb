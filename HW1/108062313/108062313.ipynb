{
 "cells": [
  {
   "cell_type": "code",
   "execution_count": 2,
   "id": "d5a45463",
   "metadata": {},
   "outputs": [
    {
     "name": "stdout",
     "output_type": "stream",
     "text": [
      "Response Code: 0 | Event Code: 0 | Info: host '203.66.91.161:80', hostname '203.66.91.161:80' IP 203.66.91.161:80 (host 1 of 1) (host connection attempt 1 of 1) (total connection attempt 1 of 1) | Event: Session up\n"
     ]
    }
   ],
   "source": [
    "import shioaji as sj\n",
    "import pysimulation\n",
    "\n",
    "api = sj.Shioaji(simulation=True)\n",
    "\n",
    "accounts = api.login(\n",
    "    api_key=\"3WmNiNGCQMuPGsRMdpgML3MWYkqM1gExzPUGKKcjhufd\",     # 請修改此處\n",
    "    secret_key=\"EnKAve1Ldd8wuerMRcwKUUrB4DRmLyoxCSyoApmbzrTM\"   # 請修改此處\n",
    ")\n",
    "\n",
    "order = pysimulation.order('108062313') # 請改成自己的學號"
   ]
  },
  {
   "cell_type": "code",
   "execution_count": 3,
   "id": "f1dddf6b",
   "metadata": {},
   "outputs": [
    {
     "name": "stdout",
     "output_type": "stream",
     "text": [
      "Response Code: 200 | Event Code: 16 | Info: TIC/v1/FOP/*/TFE/TXFC3 | Event: Subscribe or Unsubscribe ok\n",
      "Response Code: 200 | Event Code: 16 | Info: QUO/v1/FOP/*/TFE/TXFC3 | Event: Subscribe or Unsubscribe ok\n"
     ]
    }
   ],
   "source": [
    "# 近月臺股期貨商品檔\n",
    "contract = min(\n",
    "    [\n",
    "        x for x in api.Contracts.Futures.TXF \n",
    "        if x.code[-2:] not in [\"R1\", \"R2\"]\n",
    "    ],\n",
    "    key=lambda x: x.delivery_date\n",
    ")\n",
    "\n",
    "from shioaji import TickFOPv1, BidAskFOPv1, Exchange\n",
    "\n",
    "from collections import defaultdict, deque\n",
    "\n",
    "msg_queue = defaultdict(deque)\n",
    "api.set_context(msg_queue)\n",
    "\n",
    "# In order to use context, set bind=True\n",
    "@api.on_tick_fop_v1(bind=True)\n",
    "def quote_callback(self, exchange:Exchange, tick:TickFOPv1):\n",
    "    # append quote to message queue\n",
    "    self['tick'].append(tick)\n",
    "\n",
    "# In order to use context, set bind=True\n",
    "@api.on_bidask_fop_v1(bind=True)\n",
    "def quote_callback(self, exchange:Exchange, bidask:BidAskFOPv1):\n",
    "    # append quote to message queue\n",
    "    self['bidask'].append(bidask)\n",
    "\n",
    "api.quote.subscribe(\n",
    "    contract,\n",
    "    quote_type = sj.constant.QuoteType.Tick,\n",
    "    version = sj.constant.QuoteVersion.v1,\n",
    ")\n",
    "\n",
    "api.quote.subscribe(\n",
    "    contract,\n",
    "    quote_type = sj.constant.QuoteType.BidAsk,\n",
    "    version = sj.constant.QuoteVersion.v1\n",
    ")"
   ]
  },
  {
   "cell_type": "code",
   "execution_count": 4,
   "id": "28973c62",
   "metadata": {},
   "outputs": [
    {
     "ename": "KeyboardInterrupt",
     "evalue": "",
     "output_type": "error",
     "traceback": [
      "\u001b[0;31m---------------------------------------------------------------------------\u001b[0m",
      "\u001b[0;31mKeyboardInterrupt\u001b[0m                         Traceback (most recent call last)",
      "\u001b[0;32m/var/folders/59/8_41z4690f73xl4p8mhyh_z00000gn/T/ipykernel_90438/3323800672.py\u001b[0m in \u001b[0;36m<module>\u001b[0;34m\u001b[0m\n\u001b[1;32m      4\u001b[0m \u001b[0;32mwhile\u001b[0m \u001b[0;32mTrue\u001b[0m\u001b[0;34m:\u001b[0m\u001b[0;34m\u001b[0m\u001b[0;34m\u001b[0m\u001b[0m\n\u001b[1;32m      5\u001b[0m \u001b[0;31m#     print(datetime.datetime.now(pytz.timezone('ROC')).time())\u001b[0m\u001b[0;34m\u001b[0m\u001b[0;34m\u001b[0m\u001b[0m\n\u001b[0;32m----> 6\u001b[0;31m     \u001b[0;32mif\u001b[0m \u001b[0mdatetime\u001b[0m\u001b[0;34m.\u001b[0m\u001b[0mdatetime\u001b[0m\u001b[0;34m.\u001b[0m\u001b[0mnow\u001b[0m\u001b[0;34m(\u001b[0m\u001b[0mpytz\u001b[0m\u001b[0;34m.\u001b[0m\u001b[0mtimezone\u001b[0m\u001b[0;34m(\u001b[0m\u001b[0;34m'ROC'\u001b[0m\u001b[0;34m)\u001b[0m\u001b[0;34m)\u001b[0m\u001b[0;34m.\u001b[0m\u001b[0mtime\u001b[0m\u001b[0;34m(\u001b[0m\u001b[0;34m)\u001b[0m \u001b[0;34m>=\u001b[0m \u001b[0mdatetime\u001b[0m\u001b[0;34m.\u001b[0m\u001b[0mtime\u001b[0m\u001b[0;34m(\u001b[0m\u001b[0;36m9\u001b[0m\u001b[0;34m,\u001b[0m \u001b[0;36m15\u001b[0m\u001b[0;34m,\u001b[0m \u001b[0;36m0\u001b[0m\u001b[0;34m)\u001b[0m\u001b[0;34m:\u001b[0m\u001b[0;34m\u001b[0m\u001b[0;34m\u001b[0m\u001b[0m\n\u001b[0m\u001b[1;32m      7\u001b[0m         \u001b[0morder\u001b[0m\u001b[0;34m.\u001b[0m\u001b[0mplace_order\u001b[0m\u001b[0;34m(\u001b[0m\u001b[0mmsg_queue\u001b[0m\u001b[0;34m[\u001b[0m\u001b[0;34m'bidask'\u001b[0m\u001b[0;34m]\u001b[0m\u001b[0;34m[\u001b[0m\u001b[0;34m-\u001b[0m\u001b[0;36m1\u001b[0m\u001b[0;34m]\u001b[0m\u001b[0;34m,\u001b[0m \u001b[0;34m'Buy'\u001b[0m\u001b[0;34m,\u001b[0m \u001b[0;34m'New'\u001b[0m\u001b[0;34m)\u001b[0m\u001b[0;34m\u001b[0m\u001b[0;34m\u001b[0m\u001b[0m\n\u001b[1;32m      8\u001b[0m         \u001b[0;32mbreak\u001b[0m\u001b[0;34m\u001b[0m\u001b[0;34m\u001b[0m\u001b[0m\n",
      "\u001b[0;32m~/opt/anaconda3/lib/python3.9/site-packages/pytz/__init__.py\u001b[0m in \u001b[0;36mtimezone\u001b[0;34m(zone)\u001b[0m\n\u001b[1;32m    177\u001b[0m         \u001b[0;32mraise\u001b[0m \u001b[0mUnknownTimeZoneError\u001b[0m\u001b[0;34m(\u001b[0m\u001b[0mzone\u001b[0m\u001b[0;34m)\u001b[0m\u001b[0;34m\u001b[0m\u001b[0;34m\u001b[0m\u001b[0m\n\u001b[1;32m    178\u001b[0m \u001b[0;34m\u001b[0m\u001b[0m\n\u001b[0;32m--> 179\u001b[0;31m     \u001b[0mzone\u001b[0m \u001b[0;34m=\u001b[0m \u001b[0m_case_insensitive_zone_lookup\u001b[0m\u001b[0;34m(\u001b[0m\u001b[0m_unmunge_zone\u001b[0m\u001b[0;34m(\u001b[0m\u001b[0mzone\u001b[0m\u001b[0;34m)\u001b[0m\u001b[0;34m)\u001b[0m\u001b[0;34m\u001b[0m\u001b[0;34m\u001b[0m\u001b[0m\n\u001b[0m\u001b[1;32m    180\u001b[0m     \u001b[0;32mif\u001b[0m \u001b[0mzone\u001b[0m \u001b[0;32mnot\u001b[0m \u001b[0;32min\u001b[0m \u001b[0m_tzinfo_cache\u001b[0m\u001b[0;34m:\u001b[0m\u001b[0;34m\u001b[0m\u001b[0;34m\u001b[0m\u001b[0m\n\u001b[1;32m    181\u001b[0m         \u001b[0;32mif\u001b[0m \u001b[0mzone\u001b[0m \u001b[0;32min\u001b[0m \u001b[0mall_timezones_set\u001b[0m\u001b[0;34m:\u001b[0m  \u001b[0;31m# noqa\u001b[0m\u001b[0;34m\u001b[0m\u001b[0;34m\u001b[0m\u001b[0m\n",
      "\u001b[0;32m~/opt/anaconda3/lib/python3.9/site-packages/pytz/__init__.py\u001b[0m in \u001b[0;36m_unmunge_zone\u001b[0;34m(zone)\u001b[0m\n\u001b[1;32m    193\u001b[0m \u001b[0;32mdef\u001b[0m \u001b[0m_unmunge_zone\u001b[0m\u001b[0;34m(\u001b[0m\u001b[0mzone\u001b[0m\u001b[0;34m)\u001b[0m\u001b[0;34m:\u001b[0m\u001b[0;34m\u001b[0m\u001b[0;34m\u001b[0m\u001b[0m\n\u001b[1;32m    194\u001b[0m     \u001b[0;34m\"\"\"Undo the time zone name munging done by older versions of pytz.\"\"\"\u001b[0m\u001b[0;34m\u001b[0m\u001b[0;34m\u001b[0m\u001b[0m\n\u001b[0;32m--> 195\u001b[0;31m     \u001b[0;32mreturn\u001b[0m \u001b[0mzone\u001b[0m\u001b[0;34m.\u001b[0m\u001b[0mreplace\u001b[0m\u001b[0;34m(\u001b[0m\u001b[0;34m'_plus_'\u001b[0m\u001b[0;34m,\u001b[0m \u001b[0;34m'+'\u001b[0m\u001b[0;34m)\u001b[0m\u001b[0;34m.\u001b[0m\u001b[0mreplace\u001b[0m\u001b[0;34m(\u001b[0m\u001b[0;34m'_minus_'\u001b[0m\u001b[0;34m,\u001b[0m \u001b[0;34m'-'\u001b[0m\u001b[0;34m)\u001b[0m\u001b[0;34m\u001b[0m\u001b[0;34m\u001b[0m\u001b[0m\n\u001b[0m\u001b[1;32m    196\u001b[0m \u001b[0;34m\u001b[0m\u001b[0m\n\u001b[1;32m    197\u001b[0m \u001b[0;34m\u001b[0m\u001b[0m\n",
      "\u001b[0;31mKeyboardInterrupt\u001b[0m: "
     ]
    }
   ],
   "source": [
    "import datetime\n",
    "import pytz\n",
    "\n",
    "while True:\n",
    "#     print(datetime.datetime.now(pytz.timezone('ROC')).time())\n",
    "    if datetime.datetime.now(pytz.timezone('ROC')).time() >= datetime.time(9, 15, 0):\n",
    "        order.place_order(msg_queue['bidask'][-1], 'Buy', 'New')\n",
    "        break\n",
    "    else:\n",
    "        continue\n",
    "        \n",
    "while True:\n",
    "    if datetime.datetime.now(pytz.timezone('ROC')).time() >= datetime.time(13, 30, 0):\n",
    "        if(len(order.list_trades()) != 0):\n",
    "            if order.list_trades()[-1]['octype'] == 'New':\n",
    "                if order.list_trades()[-1]['action'] == 'Buy':\n",
    "                    # 當沖13:30強制沖銷，賣出平倉\n",
    "                    order.place_order(msg_queue['bidask'][-1], 'Sell', 'Cover')\n",
    "        break"
   ]
  },
  {
   "cell_type": "code",
   "execution_count": null,
   "id": "d9ac4deb",
   "metadata": {},
   "outputs": [],
   "source": [
    "# import datetime\n",
    "# import pytz\n",
    "\n",
    "# while True:\n",
    "#     if datetime.datetime.now(pytz.timezone('ROC')).time() >= datetime.time(9, 15, 0):\n",
    "#         high = msg_queue['tick'][-1]['high']\n",
    "#         low = msg_queue['tick'][-1]['low']\n",
    "#         # 開盤30分K，最高價最低價用於判斷多空\n",
    "#         break\n",
    "#     else:\n",
    "#         continue\n",
    "\n",
    "# while True:\n",
    "#     while True:\n",
    "# #         print(msg_queue['tick'])\n",
    "#         if msg_queue['tick'][-1]['close'] > high:\n",
    "#             # 成交價 > 最高價，新倉買進\n",
    "#             order.place_order(msg_queue['bidask'][-1], 'Buy', 'New')\n",
    "#             break\n",
    "#         elif msg_queue['tick'][-1]['close'] < low:\n",
    "#             # 成交價 < 最低價，新倉賣出\n",
    "#             order.place_order(msg_queue['bidask'][-1], 'Sell', 'New')\n",
    "#             break\n",
    "#         elif datetime.datetime.now(pytz.timezone('ROC')).time() >= datetime.time(13, 30, 0):\n",
    "#             break\n",
    "\n",
    "#     while True:\n",
    "#         # 2%停損\n",
    "#         if datetime.datetime.now(pytz.timezone('ROC')).time() >= datetime.time(13, 30, 0):\n",
    "#             break\n",
    "#         else:\n",
    "#             if order.list_trades()[-1]['action'] == 'Buy':\n",
    "#                 if msg_queue['tick'][-1]['close'] < order.list_trades()[-1]['price'] * 0.98:\n",
    "#                     # 新倉買進2%停損，賣出平倉\n",
    "#                     order.place_order(msg_queue['bidask'][-1], 'Sell', 'Cover')\n",
    "#                     break\n",
    "#             elif order.list_trades()[-1]['action'] == 'Sell':\n",
    "#                 if msg_queue['tick'][-1]['close'] > order.list_trades()[-1]['price'] * 1.02:\n",
    "#                     # 新倉賣出2%停損，買進平倉\n",
    "#                     order.place_order(msg_queue['bidask'][-1], 'Buy', 'Cover')\n",
    "#                     break\n",
    "    \n",
    "#     if datetime.datetime.now(pytz.timezone('ROC')).time() >= datetime.time(13, 30, 0):\n",
    "#         if(len(order.list_trades()) != 0):\n",
    "#             if order.list_trades()[-1]['octype'] == 'New':\n",
    "#                 if order.list_trades()[-1]['action'] == 'Buy':\n",
    "#                     # 當沖13:30強制沖銷，賣出平倉\n",
    "#                     order.place_order(msg_queue['bidask'][-1], 'Sell', 'Cover')\n",
    "#                 elif order.list_trades()[-1]['action'] == 'Sell':\n",
    "#                     # 當沖13:30強制沖銷，買進平倉\n",
    "#                     order.place_order(msg_queue['bidask'][-1], 'Buy', 'Cover')\n",
    "#         break"
   ]
  },
  {
   "cell_type": "code",
   "execution_count": 9,
   "id": "288c0360",
   "metadata": {},
   "outputs": [
    {
     "name": "stdout",
     "output_type": "stream",
     "text": [
      "Response Code: 200 | Event Code: 16 | Info: TIC/v1/FOP/*/TFE/TXFC3 | Event: Subscribe or Unsubscribe ok\n",
      "Response Code: 200 | Event Code: 16 | Info: QUO/v1/FOP/*/TFE/TXFC3 | Event: Subscribe or Unsubscribe ok\n"
     ]
    }
   ],
   "source": [
    "api.quote.unsubscribe(\n",
    "    contract,\n",
    "    quote_type = sj.constant.QuoteType.Tick,\n",
    "    version = sj.constant.QuoteVersion.v1,\n",
    ")\n",
    "\n",
    "api.quote.unsubscribe(\n",
    "    contract, \n",
    "    quote_type = sj.constant.QuoteType.BidAsk,\n",
    "    version = sj.constant.QuoteVersion.v1\n",
    ")\n"
   ]
  },
  {
   "cell_type": "code",
   "execution_count": 10,
   "id": "baf5829d",
   "metadata": {},
   "outputs": [
    {
     "data": {
      "text/plain": [
       "True"
      ]
     },
     "execution_count": 10,
     "metadata": {},
     "output_type": "execute_result"
    }
   ],
   "source": [
    "api.logout()"
   ]
  },
  {
   "cell_type": "code",
   "execution_count": null,
   "id": "8dd2dac4",
   "metadata": {},
   "outputs": [],
   "source": [
    "# order.list_trades()"
   ]
  },
  {
   "cell_type": "code",
   "execution_count": null,
   "id": "d0e76ba7",
   "metadata": {},
   "outputs": [],
   "source": []
  },
  {
   "cell_type": "code",
   "execution_count": null,
   "id": "de960356",
   "metadata": {},
   "outputs": [],
   "source": []
  },
  {
   "cell_type": "code",
   "execution_count": null,
   "id": "5cf12a6c",
   "metadata": {},
   "outputs": [],
   "source": []
  },
  {
   "cell_type": "code",
   "execution_count": null,
   "id": "ea936870",
   "metadata": {},
   "outputs": [],
   "source": []
  }
 ],
 "metadata": {
  "kernelspec": {
   "display_name": "Python 3 (ipykernel)",
   "language": "python",
   "name": "python3"
  },
  "language_info": {
   "codemirror_mode": {
    "name": "ipython",
    "version": 3
   },
   "file_extension": ".py",
   "mimetype": "text/x-python",
   "name": "python",
   "nbconvert_exporter": "python",
   "pygments_lexer": "ipython3",
   "version": "3.9.13"
  }
 },
 "nbformat": 4,
 "nbformat_minor": 5
}

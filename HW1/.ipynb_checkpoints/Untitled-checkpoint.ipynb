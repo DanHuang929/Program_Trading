{
 "cells": [
  {
   "cell_type": "code",
   "execution_count": 1,
   "id": "21a84fe0",
   "metadata": {},
   "outputs": [
    {
     "name": "stderr",
     "output_type": "stream",
     "text": [
      "2023-03-03 15:46:44.900 | WARNING  | importlib._bootstrap:_call_with_frames_removed:228 - Optional: pip install shioaji[speed] for better performance.\n"
     ]
    },
    {
     "name": "stdout",
     "output_type": "stream",
     "text": [
      "Response Code: 0 | Event Code: 0 | Info: host '203.66.91.161:80', hostname '203.66.91.161:80' IP 203.66.91.161:80 (host 1 of 1) (host connection attempt 1 of 1) (total connection attempt 1 of 1) | Event: Session up\n"
     ]
    }
   ],
   "source": [
    "import shioaji as sj\n",
    "import pysimulation\n",
    "\n",
    "api = sj.Shioaji(simulation=True)\n",
    "accounts = api.login(\n",
    "    api_key=\"3VBmDtHThUkRzSL4qBNSx9vkHwrjBDVyTVEK2DtkAaAg\",     # 請修改此處\n",
    "    secret_key=\"BL6BtQh8HFJzNqiAQqrAxmcknGnStRTpnLfC4en8XR6s\"   # 請修改此處\n",
    ")\n",
    "\n",
    "order = pysimulation.order('108062313') # 請改成自己的學號"
   ]
  },
  {
   "cell_type": "code",
   "execution_count": 2,
   "id": "6297fcc4",
   "metadata": {},
   "outputs": [],
   "source": [
    "# 近月臺股期貨商品檔\n",
    "contract = min(\n",
    "    [\n",
    "        x for x in api.Contracts.Futures.TXF \n",
    "        if x.code[-2:] not in [\"R1\", \"R2\"]\n",
    "    ],\n",
    "    key=lambda x: x.delivery_date\n",
    ")\n",
    "\n",
    "from shioaji import TickFOPv1, BidAskFOPv1, Exchange\n",
    "\n",
    "from collections import defaultdict, deque\n",
    "\n",
    "msg_queue = defaultdict(deque)\n",
    "api.set_context(msg_queue)\n",
    "\n",
    "# In order to use context, set bind=True\n",
    "@api.on_tick_fop_v1(bind=True)\n",
    "def quote_callback(self, exchange:Exchange, tick:TickFOPv1):\n",
    "    # append quote to message queue\n",
    "    self['tick'].append(tick)\n",
    "\n",
    "# In order to use context, set bind=True\n",
    "@api.on_bidask_fop_v1(bind=True)\n",
    "def quote_callback(self, exchange:Exchange, bidask:BidAskFOPv1):\n",
    "    # append quote to message queue\n",
    "    self['bidask'].append(bidask)\n",
    "\n",
    "api.quote.subscribe(\n",
    "    contract,\n",
    "    quote_type = sj.constant.QuoteType.Tick,\n",
    "    version = sj.constant.QuoteVersion.v1,\n",
    ")\n",
    "\n",
    "api.quote.subscribe(\n",
    "    contract,\n",
    "    quote_type = sj.constant.QuoteType.BidAsk,\n",
    "    version = sj.constant.QuoteVersion.v1\n",
    ")"
   ]
  },
  {
   "cell_type": "code",
   "execution_count": 13,
   "id": "27d1a991",
   "metadata": {},
   "outputs": [
    {
     "ename": "NameError",
     "evalue": "name 'PERSON_ID' is not defined",
     "output_type": "error",
     "traceback": [
      "\u001b[0;31m---------------------------------------------------------------------------\u001b[0m",
      "\u001b[0;31mNameError\u001b[0m                                 Traceback (most recent call last)",
      "\u001b[0;32m/var/folders/59/8_41z4690f73xl4p8mhyh_z00000gn/T/ipykernel_72295/2566255696.py\u001b[0m in \u001b[0;36m<module>\u001b[0;34m\u001b[0m\n\u001b[1;32m     12\u001b[0m \u001b[0;34m\u001b[0m\u001b[0m\n\u001b[1;32m     13\u001b[0m \u001b[0;31m# 登入\u001b[0m\u001b[0;34m\u001b[0m\u001b[0;34m\u001b[0m\u001b[0m\n\u001b[0;32m---> 14\u001b[0;31m \u001b[0maccounts\u001b[0m \u001b[0;34m=\u001b[0m \u001b[0mapi\u001b[0m\u001b[0;34m.\u001b[0m\u001b[0mlogin\u001b[0m\u001b[0;34m(\u001b[0m\u001b[0mPERSON_ID\u001b[0m\u001b[0;34m,\u001b[0m \u001b[0mPASSWORD\u001b[0m\u001b[0;34m)\u001b[0m\u001b[0;34m\u001b[0m\u001b[0;34m\u001b[0m\u001b[0m\n\u001b[0m\u001b[1;32m     15\u001b[0m \u001b[0mprint\u001b[0m\u001b[0;34m(\u001b[0m\u001b[0;34m\"帳戶\"\u001b[0m\u001b[0;34m,\u001b[0m \u001b[0maccounts\u001b[0m\u001b[0;34m)\u001b[0m\u001b[0;34m\u001b[0m\u001b[0;34m\u001b[0m\u001b[0m\n\u001b[1;32m     16\u001b[0m \u001b[0;32mif\u001b[0m \u001b[0mapi\u001b[0m\u001b[0;34m.\u001b[0m\u001b[0mfutopt_account\u001b[0m \u001b[0;32mis\u001b[0m \u001b[0;32mNone\u001b[0m\u001b[0;34m:\u001b[0m\u001b[0;34m\u001b[0m\u001b[0;34m\u001b[0m\u001b[0m\n",
      "\u001b[0;31mNameError\u001b[0m: name 'PERSON_ID' is not defined"
     ]
    }
   ],
   "source": [
    "import datetime\n",
    "import pytz\n",
    "\n",
    "while True:\n",
    "    if datetime.datetime.now(pytz.timezone('ROC')).time() >= datetime.time(9, 15, 0):\n",
    "        high = msg_queue['tick'][-1]['high']\n",
    "        low = msg_queue['tick'][-1]['low']\n",
    "        # 開盤30分K，最高價最低價用於判斷多空\n",
    "        break\n",
    "    else:\n",
    "        continue\n",
    "\n",
    "while True:\n",
    "    while True:\n",
    "#         print(msg_queue['tick'])\n",
    "        if msg_queue['tick'][-1]['close'] > high:\n",
    "            # 成交價 > 最高價，新倉買進\n",
    "            order.place_order(msg_queue['bidask'][-1], 'Buy', 'New')\n",
    "            break\n",
    "        elif msg_queue['tick'][-1]['close'] < low:\n",
    "            # 成交價 < 最低價，新倉賣出\n",
    "            order.place_order(msg_queue['bidask'][-1], 'Sell', 'New')\n",
    "            break\n",
    "        elif datetime.datetime.now(pytz.timezone('ROC')).time() >= datetime.time(13, 30, 0):\n",
    "            break\n",
    "\n",
    "    while True:\n",
    "        # 2%停損\n",
    "        if datetime.datetime.now(pytz.timezone('ROC')).time() >= datetime.time(13, 30, 0):\n",
    "            break\n",
    "        else:\n",
    "            if order.list_trades()[-1]['action'] == 'Buy':\n",
    "                if msg_queue['tick'][-1]['close'] < order.list_trades()[-1]['price'] * 0.98:\n",
    "                    # 新倉買進2%停損，賣出平倉\n",
    "                    order.place_order(msg_queue['bidask'][-1], 'Sell', 'Cover')\n",
    "                    break\n",
    "            elif order.list_trades()[-1]['action'] == 'Sell':\n",
    "                if msg_queue['tick'][-1]['close'] > order.list_trades()[-1]['price'] * 1.02:\n",
    "                    # 新倉賣出2%停損，買進平倉\n",
    "                    order.place_order(msg_queue['bidask'][-1], 'Buy', 'Cover')\n",
    "                    break\n",
    "    \n",
    "    if datetime.datetime.now(pytz.timezone('ROC')).time() >= datetime.time(13, 30, 0):\n",
    "        if(len(order.list_trades()) != 0):\n",
    "            if order.list_trades()[-1]['octype'] == 'New':\n",
    "                if order.list_trades()[-1]['action'] == 'Buy':\n",
    "                    # 當沖13:30強制沖銷，賣出平倉\n",
    "                    order.place_order(msg_queue['bidask'][-1], 'Sell', 'Cover')\n",
    "                elif order.list_trades()[-1]['action'] == 'Sell':\n",
    "                    # 當沖13:30強制沖銷，買進平倉\n",
    "                    order.place_order(msg_queue['bidask'][-1], 'Buy', 'Cover')\n",
    "        break"
   ]
  },
  {
   "cell_type": "code",
   "execution_count": 7,
   "id": "ace4ff89",
   "metadata": {},
   "outputs": [
    {
     "name": "stdout",
     "output_type": "stream",
     "text": [
      "Response Code: 200 | Event Code: 16 | Info: TIC/v1/FOP/*/TFE/TXFC3 | Event: Subscribe or Unsubscribe ok\n",
      "Response Code: 200 | Event Code: 16 | Info: QUO/v1/FOP/*/TFE/TXFC3 | Event: Subscribe or Unsubscribe ok\n"
     ]
    }
   ],
   "source": [
    "api.quote.unsubscribe(\n",
    "    contract,\n",
    "    quote_type = sj.constant.QuoteType.Tick,\n",
    "    version = sj.constant.QuoteVersion.v1,\n",
    ")\n",
    "\n",
    "api.quote.unsubscribe(\n",
    "    contract, \n",
    "    quote_type = sj.constant.QuoteType.BidAsk,\n",
    "    version = sj.constant.QuoteVersion.v1\n",
    ")\n"
   ]
  },
  {
   "cell_type": "code",
   "execution_count": null,
   "id": "32b736c7",
   "metadata": {},
   "outputs": [],
   "source": [
    "api.logout()"
   ]
  },
  {
   "cell_type": "code",
   "execution_count": 9,
   "id": "bb1cf111",
   "metadata": {},
   "outputs": [
    {
     "data": {
      "text/plain": [
       "[]"
      ]
     },
     "execution_count": 9,
     "metadata": {},
     "output_type": "execute_result"
    }
   ],
   "source": [
    "order.list_trades()"
   ]
  },
  {
   "cell_type": "code",
   "execution_count": null,
   "id": "84c3d453",
   "metadata": {},
   "outputs": [],
   "source": []
  },
  {
   "cell_type": "code",
   "execution_count": null,
   "id": "e7d1afa9",
   "metadata": {},
   "outputs": [],
   "source": []
  },
  {
   "cell_type": "code",
   "execution_count": null,
   "id": "3daa70e6",
   "metadata": {},
   "outputs": [],
   "source": []
  },
  {
   "cell_type": "code",
   "execution_count": null,
   "id": "ee4af754",
   "metadata": {},
   "outputs": [],
   "source": []
  }
 ],
 "metadata": {
  "kernelspec": {
   "display_name": "Python 3 (ipykernel)",
   "language": "python",
   "name": "python3"
  },
  "language_info": {
   "codemirror_mode": {
    "name": "ipython",
    "version": 3
   },
   "file_extension": ".py",
   "mimetype": "text/x-python",
   "name": "python",
   "nbconvert_exporter": "python",
   "pygments_lexer": "ipython3",
   "version": "3.9.13"
  }
 },
 "nbformat": 4,
 "nbformat_minor": 5
}

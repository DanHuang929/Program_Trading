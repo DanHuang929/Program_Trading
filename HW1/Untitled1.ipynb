{
 "cells": [
  {
   "cell_type": "code",
   "execution_count": 4,
   "id": "4399288a",
   "metadata": {},
   "outputs": [],
   "source": [
    "# 鍵入 Shift + Enter 執行程式碼\n",
    "\n",
    "# 請輸入證券(期貨)身分證字號及密碼\n",
    "#################################\n",
    "\n",
    "PERSON_ID = \"A131461990\" # 身分證字號\n",
    "PASSWORD = \"Dan8909292000\" # 密碼\n",
    "\n",
    "#################################"
   ]
  },
  {
   "cell_type": "code",
   "execution_count": 5,
   "id": "91365dd6",
   "metadata": {},
   "outputs": [],
   "source": [
    "import shioaji as sj # 載入永豐金Python API\n",
    "import time"
   ]
  },
  {
   "cell_type": "code",
   "execution_count": 6,
   "id": "a89ae0b4",
   "metadata": {},
   "outputs": [
    {
     "name": "stdout",
     "output_type": "stream",
     "text": [
      "Response Code: 0 | Event Code: 0 | Info: host '203.66.91.161:80', hostname '203.66.91.161:80' IP 203.66.91.161:80 (host 1 of 1) (host connection attempt 1 of 1) (total connection attempt 1 of 1) | Event: Session up\n"
     ]
    },
    {
     "ename": "Exception",
     "evalue": "{'status': {'status_code': 400}, 'response': {'token': '', 'accounts': [], 'detail': 'Incorrect userid or password', 'ip_address': '118.166.93.247', 'client_name': '', 'contract_download': False, 'web_token': ''}}",
     "output_type": "error",
     "traceback": [
      "\u001b[0;31m---------------------------------------------------------------------------\u001b[0m",
      "\u001b[0;31mException\u001b[0m                                 Traceback (most recent call last)",
      "\u001b[0;32m/var/folders/59/8_41z4690f73xl4p8mhyh_z00000gn/T/ipykernel_73428/3247001109.py\u001b[0m in \u001b[0;36m<module>\u001b[0;34m\u001b[0m\n\u001b[1;32m     11\u001b[0m \u001b[0;34m\u001b[0m\u001b[0m\n\u001b[1;32m     12\u001b[0m \u001b[0;31m# 登入\u001b[0m\u001b[0;34m\u001b[0m\u001b[0;34m\u001b[0m\u001b[0m\n\u001b[0;32m---> 13\u001b[0;31m \u001b[0maccounts\u001b[0m \u001b[0;34m=\u001b[0m \u001b[0mapi\u001b[0m\u001b[0;34m.\u001b[0m\u001b[0mlogin\u001b[0m\u001b[0;34m(\u001b[0m\u001b[0mPERSON_ID\u001b[0m\u001b[0;34m,\u001b[0m \u001b[0mPASSWORD\u001b[0m\u001b[0;34m)\u001b[0m\u001b[0;34m\u001b[0m\u001b[0;34m\u001b[0m\u001b[0m\n\u001b[0m\u001b[1;32m     14\u001b[0m \u001b[0mprint\u001b[0m\u001b[0;34m(\u001b[0m\u001b[0;34m\"帳戶\"\u001b[0m\u001b[0;34m,\u001b[0m \u001b[0maccounts\u001b[0m\u001b[0;34m)\u001b[0m\u001b[0;34m\u001b[0m\u001b[0;34m\u001b[0m\u001b[0m\n\u001b[1;32m     15\u001b[0m \u001b[0;32mif\u001b[0m \u001b[0mapi\u001b[0m\u001b[0;34m.\u001b[0m\u001b[0mfutopt_account\u001b[0m \u001b[0;32mis\u001b[0m \u001b[0;32mNone\u001b[0m\u001b[0;34m:\u001b[0m\u001b[0;34m\u001b[0m\u001b[0;34m\u001b[0m\u001b[0m\n",
      "\u001b[0;32m~/opt/anaconda3/lib/python3.9/site-packages/shioaji/shioaji.py\u001b[0m in \u001b[0;36mlogin\u001b[0;34m(self, person_id, passwd, hashed, fetch_contract, contracts_timeout, contracts_cb, subscribe_trade)\u001b[0m\n\u001b[1;32m    283\u001b[0m             \u001b[0mweb_token\u001b[0m \u001b[0;34m=\u001b[0m \u001b[0;34m\"\"\u001b[0m\u001b[0;34m\u001b[0m\u001b[0;34m\u001b[0m\u001b[0m\n\u001b[1;32m    284\u001b[0m         \u001b[0;32melse\u001b[0m\u001b[0;34m:\u001b[0m\u001b[0;34m\u001b[0m\u001b[0;34m\u001b[0m\u001b[0m\n\u001b[0;32m--> 285\u001b[0;31m             accounts, contract_download, web_token = self._solace.login(\n\u001b[0m\u001b[1;32m    286\u001b[0m                 \u001b[0mperson_id\u001b[0m\u001b[0;34m,\u001b[0m \u001b[0mpasswd\u001b[0m\u001b[0;34m,\u001b[0m \u001b[0mhashed\u001b[0m\u001b[0;34m,\u001b[0m \u001b[0msubscribe_trade\u001b[0m\u001b[0;34m\u001b[0m\u001b[0;34m\u001b[0m\u001b[0m\n\u001b[1;32m    287\u001b[0m             )\n",
      "\u001b[0;32mshioaji/backend/solace/api.pyx\u001b[0m in \u001b[0;36mshioaji.backend.solace.api.SolaceAPI.login\u001b[0;34m()\u001b[0m\n",
      "\u001b[0;32m~/opt/anaconda3/lib/python3.9/site-packages/shioaji/utils.py\u001b[0m in \u001b[0;36mraise_resp_error\u001b[0;34m(status_code, resp, session)\u001b[0m\n\u001b[1;32m     52\u001b[0m         \u001b[0;32mraise\u001b[0m \u001b[0mSystemMaintenance\u001b[0m\u001b[0;34m(\u001b[0m\u001b[0mstatus_code\u001b[0m\u001b[0;34m,\u001b[0m \u001b[0mdetail\u001b[0m\u001b[0;34m)\u001b[0m\u001b[0;34m\u001b[0m\u001b[0;34m\u001b[0m\u001b[0m\n\u001b[1;32m     53\u001b[0m     \u001b[0;32melse\u001b[0m\u001b[0;34m:\u001b[0m\u001b[0;34m\u001b[0m\u001b[0;34m\u001b[0m\u001b[0m\n\u001b[0;32m---> 54\u001b[0;31m         \u001b[0;32mraise\u001b[0m \u001b[0mException\u001b[0m\u001b[0;34m(\u001b[0m\u001b[0mresp\u001b[0m\u001b[0;34m)\u001b[0m\u001b[0;34m\u001b[0m\u001b[0;34m\u001b[0m\u001b[0m\n\u001b[0m\u001b[1;32m     55\u001b[0m \u001b[0;34m\u001b[0m\u001b[0m\n\u001b[1;32m     56\u001b[0m \u001b[0;34m\u001b[0m\u001b[0m\n",
      "\u001b[0;31mException\u001b[0m: {'status': {'status_code': 400}, 'response': {'token': '', 'accounts': [], 'detail': 'Incorrect userid or password', 'ip_address': '118.166.93.247', 'client_name': '', 'contract_download': False, 'web_token': ''}}"
     ]
    }
   ],
   "source": [
    "# 鍵入 Shift + Enter 執行程式碼\n",
    "\n",
    "\n",
    "\n",
    "# 勿更動，確保API操作均在模擬環境執行\n",
    "#################################\n",
    "\n",
    "api = sj.Shioaji(simulation=True) # simulation=True 即表示使用模擬環境\n",
    "\n",
    "#################################\n",
    "\n",
    "# 登入\n",
    "accounts = api.login(PERSON_ID, PASSWORD)\n",
    "print(\"帳戶\", accounts)\n",
    "if api.futopt_account is None:\n",
    "  print(\"查無期貨帳戶，無須測試\")\n",
    "  api.logout()\n",
    "\n",
    "time.sleep(10) # 等待商品檔下載完成\n",
    "\n",
    "# 商品檔 - 近月臺股期貨\n",
    "contract = min(\n",
    "    [\n",
    "        x for x in api.Contracts.Futures.TXF \n",
    "        if x.code[-2:] not in [\"R1\", \"R2\"]\n",
    "    ],\n",
    "    key=lambda x: x.delivery_date\n",
    ")\n",
    "print(\"商品檔\", contract)\n",
    "\n",
    "# 委託內容\n",
    "order = api.Order(\n",
    "    action=sj.constant.Action.Buy,               # action (買賣別): Buy, Sell \n",
    "    price=15000,                        # price (價格)\n",
    "    quantity=1,                        # quantity (委託數量)\n",
    "    price_type=sj.constant.FuturesPriceType.LMT,        # price_type (委託價格類別): LMT(限價), MKT(市價), MKP(範圍市價)\n",
    "    order_type=sj.constant.FuturesOrderType.ROD,        # order_type (委託條件): IOC, ROD, FOK\n",
    "    octype=sj.constant.FuturesOCType.Auto,           # octype (倉別 ): Auto(自動), New(新倉), Cover(平倉), DayTrade(當沖)\n",
    "    account=api.futopt_account                 # account (下單帳號)\n",
    ")\n",
    "print(\"委託內容\", order)\n",
    "\n",
    "# 執行委託\n",
    "trade = api.place_order(contract, order, timeout=0)\n",
    "print(\"委託回傳內容\", trade)\n",
    "\n",
    "# 登出\n",
    "api.logout()"
   ]
  },
  {
   "cell_type": "code",
   "execution_count": null,
   "id": "adfcf8bf",
   "metadata": {},
   "outputs": [],
   "source": [
    "# 鍵入 Shift + Enter 執行程式碼\n",
    "\n",
    "# 載入永豐金Python API\n",
    "import shioaji as sj \n",
    "\n",
    "# 請注意，API於正式環境執行\n",
    "#################################\n",
    "\n",
    "api = sj.Shioaji(simulation=False) # simulation=False 即表示使用正式環境\n",
    "\n",
    "#################################\n",
    "\n",
    "api.login(PERSON_ID, PASSWORD) # 登入"
   ]
  },
  {
   "cell_type": "code",
   "execution_count": null,
   "id": "f3eb9618",
   "metadata": {},
   "outputs": [],
   "source": []
  }
 ],
 "metadata": {
  "kernelspec": {
   "display_name": "Python 3 (ipykernel)",
   "language": "python",
   "name": "python3"
  },
  "language_info": {
   "codemirror_mode": {
    "name": "ipython",
    "version": 3
   },
   "file_extension": ".py",
   "mimetype": "text/x-python",
   "name": "python",
   "nbconvert_exporter": "python",
   "pygments_lexer": "ipython3",
   "version": "3.9.13"
  }
 },
 "nbformat": 4,
 "nbformat_minor": 5
}
